{
 "cells": [
  {
   "cell_type": "code",
   "execution_count": 1,
   "id": "de621914-6c39-4f16-b4f0-eea13001ee44",
   "metadata": {},
   "outputs": [],
   "source": [
    "import pandas as pd"
   ]
  },
  {
   "cell_type": "code",
   "execution_count": null,
   "id": "0febcf81-9ad6-4ae4-87d3-7351cc0bb247",
   "metadata": {},
   "outputs": [],
   "source": [
    "df = pd.read_csv('titanfull.csv')\n",
    "df.head()"
   ]
  }
 ],
 "metadata": {
  "kernelspec": {
   "display_name": "Python 3",
   "language": "python",
   "name": "python3"
  },
  "language_info": {
   "codemirror_mode": {
    "name": "ipython",
    "version": 3
   },
   "file_extension": ".py",
   "mimetype": "text/x-python",
   "name": "python",
   "nbconvert_exporter": "python",
   "pygments_lexer": "ipython3",
   "version": "3.8.5"
  }
 },
 "nbformat": 4,
 "nbformat_minor": 5
}
