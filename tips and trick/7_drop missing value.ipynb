{
 "cells": [
  {
   "cell_type": "code",
   "execution_count": 2,
   "id": "39b8c30e-9772-43ec-82aa-101e9cfff7f4",
   "metadata": {},
   "outputs": [
    {
     "name": "stdout",
     "output_type": "stream",
     "text": [
      "1.1.3\n"
     ]
    }
   ],
   "source": [
    "import pandas as pd\n",
    "\n",
    "print (pd.__version__)"
   ]
  },
  {
   "cell_type": "code",
   "execution_count": 14,
   "id": "bc48426b-0cb7-499c-ba1f-90771f55bdca",
   "metadata": {},
   "outputs": [
    {
     "data": {
      "text/html": [
       "<div>\n",
       "<style scoped>\n",
       "    .dataframe tbody tr th:only-of-type {\n",
       "        vertical-align: middle;\n",
       "    }\n",
       "\n",
       "    .dataframe tbody tr th {\n",
       "        vertical-align: top;\n",
       "    }\n",
       "\n",
       "    .dataframe thead th {\n",
       "        text-align: right;\n",
       "    }\n",
       "</style>\n",
       "<table border=\"1\" class=\"dataframe\">\n",
       "  <thead>\n",
       "    <tr style=\"text-align: right;\">\n",
       "      <th></th>\n",
       "      <th>index</th>\n",
       "      <th>A</th>\n",
       "      <th>B</th>\n",
       "      <th>C</th>\n",
       "      <th>D</th>\n",
       "    </tr>\n",
       "  </thead>\n",
       "  <tbody>\n",
       "    <tr>\n",
       "      <th>0</th>\n",
       "      <td>jv2QdANp8S</td>\n",
       "      <td>-0.493187</td>\n",
       "      <td>2.797723</td>\n",
       "      <td>1.024956</td>\n",
       "      <td>NaN</td>\n",
       "    </tr>\n",
       "    <tr>\n",
       "      <th>1</th>\n",
       "      <td>kc8LvgC54A</td>\n",
       "      <td>0.178269</td>\n",
       "      <td>0.819694</td>\n",
       "      <td>-0.363175</td>\n",
       "      <td>-1.945319</td>\n",
       "    </tr>\n",
       "    <tr>\n",
       "      <th>2</th>\n",
       "      <td>1uTNg8kMzz</td>\n",
       "      <td>NaN</td>\n",
       "      <td>0.517209</td>\n",
       "      <td>-0.073781</td>\n",
       "      <td>1.336296</td>\n",
       "    </tr>\n",
       "    <tr>\n",
       "      <th>3</th>\n",
       "      <td>CSOTeDzjQY</td>\n",
       "      <td>0.948862</td>\n",
       "      <td>-0.332449</td>\n",
       "      <td>-0.465815</td>\n",
       "      <td>-0.447974</td>\n",
       "    </tr>\n",
       "    <tr>\n",
       "      <th>4</th>\n",
       "      <td>S3cv3ZUsTO</td>\n",
       "      <td>0.326919</td>\n",
       "      <td>-0.390566</td>\n",
       "      <td>1.218844</td>\n",
       "      <td>0.945531</td>\n",
       "    </tr>\n",
       "  </tbody>\n",
       "</table>\n",
       "</div>"
      ],
      "text/plain": [
       "        index         A         B         C         D\n",
       "0  jv2QdANp8S -0.493187  2.797723  1.024956       NaN\n",
       "1  kc8LvgC54A  0.178269  0.819694 -0.363175 -1.945319\n",
       "2  1uTNg8kMzz       NaN  0.517209 -0.073781  1.336296\n",
       "3  CSOTeDzjQY  0.948862 -0.332449 -0.465815 -0.447974\n",
       "4  S3cv3ZUsTO  0.326919 -0.390566  1.218844  0.945531"
      ]
     },
     "execution_count": 14,
     "metadata": {},
     "output_type": "execute_result"
    }
   ],
   "source": [
    "df = pd.util.testing.makeMissingDataframe().reset_index()\n",
    "df.head()"
   ]
  },
  {
   "cell_type": "code",
   "execution_count": 15,
   "id": "61e00aec-5b6f-4a07-adf3-17a04bcbd6e2",
   "metadata": {},
   "outputs": [
    {
     "data": {
      "text/html": [
       "<div>\n",
       "<style scoped>\n",
       "    .dataframe tbody tr th:only-of-type {\n",
       "        vertical-align: middle;\n",
       "    }\n",
       "\n",
       "    .dataframe tbody tr th {\n",
       "        vertical-align: top;\n",
       "    }\n",
       "\n",
       "    .dataframe thead th {\n",
       "        text-align: right;\n",
       "    }\n",
       "</style>\n",
       "<table border=\"1\" class=\"dataframe\">\n",
       "  <thead>\n",
       "    <tr style=\"text-align: right;\">\n",
       "      <th></th>\n",
       "      <th>Z</th>\n",
       "      <th>A</th>\n",
       "      <th>B</th>\n",
       "      <th>C</th>\n",
       "      <th>D</th>\n",
       "    </tr>\n",
       "  </thead>\n",
       "  <tbody>\n",
       "    <tr>\n",
       "      <th>0</th>\n",
       "      <td>jv2QdANp8S</td>\n",
       "      <td>-0.493187</td>\n",
       "      <td>2.797723</td>\n",
       "      <td>1.024956</td>\n",
       "      <td>NaN</td>\n",
       "    </tr>\n",
       "    <tr>\n",
       "      <th>1</th>\n",
       "      <td>kc8LvgC54A</td>\n",
       "      <td>0.178269</td>\n",
       "      <td>0.819694</td>\n",
       "      <td>-0.363175</td>\n",
       "      <td>-1.945319</td>\n",
       "    </tr>\n",
       "    <tr>\n",
       "      <th>2</th>\n",
       "      <td>1uTNg8kMzz</td>\n",
       "      <td>NaN</td>\n",
       "      <td>0.517209</td>\n",
       "      <td>-0.073781</td>\n",
       "      <td>1.336296</td>\n",
       "    </tr>\n",
       "    <tr>\n",
       "      <th>3</th>\n",
       "      <td>CSOTeDzjQY</td>\n",
       "      <td>0.948862</td>\n",
       "      <td>-0.332449</td>\n",
       "      <td>-0.465815</td>\n",
       "      <td>-0.447974</td>\n",
       "    </tr>\n",
       "    <tr>\n",
       "      <th>4</th>\n",
       "      <td>S3cv3ZUsTO</td>\n",
       "      <td>0.326919</td>\n",
       "      <td>-0.390566</td>\n",
       "      <td>1.218844</td>\n",
       "      <td>0.945531</td>\n",
       "    </tr>\n",
       "  </tbody>\n",
       "</table>\n",
       "</div>"
      ],
      "text/plain": [
       "            Z         A         B         C         D\n",
       "0  jv2QdANp8S -0.493187  2.797723  1.024956       NaN\n",
       "1  kc8LvgC54A  0.178269  0.819694 -0.363175 -1.945319\n",
       "2  1uTNg8kMzz       NaN  0.517209 -0.073781  1.336296\n",
       "3  CSOTeDzjQY  0.948862 -0.332449 -0.465815 -0.447974\n",
       "4  S3cv3ZUsTO  0.326919 -0.390566  1.218844  0.945531"
      ]
     },
     "execution_count": 15,
     "metadata": {},
     "output_type": "execute_result"
    }
   ],
   "source": [
    "df = df.rename(columns={'index':'Z'})\n",
    "df.head()"
   ]
  },
  {
   "cell_type": "code",
   "execution_count": 16,
   "id": "ed3e066a-e37f-4609-891b-6b5d375d182c",
   "metadata": {},
   "outputs": [],
   "source": [
    "df_backup = df.copy(deep=True)"
   ]
  },
  {
   "cell_type": "code",
   "execution_count": 18,
   "id": "cfca724e-6ac7-47ed-91e9-54890e288a4d",
   "metadata": {},
   "outputs": [
    {
     "data": {
      "text/html": [
       "<div>\n",
       "<style scoped>\n",
       "    .dataframe tbody tr th:only-of-type {\n",
       "        vertical-align: middle;\n",
       "    }\n",
       "\n",
       "    .dataframe tbody tr th {\n",
       "        vertical-align: top;\n",
       "    }\n",
       "\n",
       "    .dataframe thead th {\n",
       "        text-align: right;\n",
       "    }\n",
       "</style>\n",
       "<table border=\"1\" class=\"dataframe\">\n",
       "  <thead>\n",
       "    <tr style=\"text-align: right;\">\n",
       "      <th></th>\n",
       "      <th>Z</th>\n",
       "    </tr>\n",
       "  </thead>\n",
       "  <tbody>\n",
       "    <tr>\n",
       "      <th>0</th>\n",
       "      <td>jv2QdANp8S</td>\n",
       "    </tr>\n",
       "    <tr>\n",
       "      <th>1</th>\n",
       "      <td>kc8LvgC54A</td>\n",
       "    </tr>\n",
       "    <tr>\n",
       "      <th>2</th>\n",
       "      <td>1uTNg8kMzz</td>\n",
       "    </tr>\n",
       "    <tr>\n",
       "      <th>3</th>\n",
       "      <td>CSOTeDzjQY</td>\n",
       "    </tr>\n",
       "    <tr>\n",
       "      <th>4</th>\n",
       "      <td>S3cv3ZUsTO</td>\n",
       "    </tr>\n",
       "  </tbody>\n",
       "</table>\n",
       "</div>"
      ],
      "text/plain": [
       "            Z\n",
       "0  jv2QdANp8S\n",
       "1  kc8LvgC54A\n",
       "2  1uTNg8kMzz\n",
       "3  CSOTeDzjQY\n",
       "4  S3cv3ZUsTO"
      ]
     },
     "execution_count": 18,
     "metadata": {},
     "output_type": "execute_result"
    }
   ],
   "source": [
    "df = df.dropna(axis='columns')\n",
    "df.head()"
   ]
  },
  {
   "cell_type": "code",
   "execution_count": 19,
   "id": "74179511-cf93-4936-8360-b1ceb706def0",
   "metadata": {},
   "outputs": [
    {
     "data": {
      "text/html": [
       "<div>\n",
       "<style scoped>\n",
       "    .dataframe tbody tr th:only-of-type {\n",
       "        vertical-align: middle;\n",
       "    }\n",
       "\n",
       "    .dataframe tbody tr th {\n",
       "        vertical-align: top;\n",
       "    }\n",
       "\n",
       "    .dataframe thead th {\n",
       "        text-align: right;\n",
       "    }\n",
       "</style>\n",
       "<table border=\"1\" class=\"dataframe\">\n",
       "  <thead>\n",
       "    <tr style=\"text-align: right;\">\n",
       "      <th></th>\n",
       "      <th>Z</th>\n",
       "      <th>A</th>\n",
       "      <th>B</th>\n",
       "      <th>C</th>\n",
       "      <th>D</th>\n",
       "    </tr>\n",
       "  </thead>\n",
       "  <tbody>\n",
       "    <tr>\n",
       "      <th>1</th>\n",
       "      <td>kc8LvgC54A</td>\n",
       "      <td>0.178269</td>\n",
       "      <td>0.819694</td>\n",
       "      <td>-0.363175</td>\n",
       "      <td>-1.945319</td>\n",
       "    </tr>\n",
       "    <tr>\n",
       "      <th>3</th>\n",
       "      <td>CSOTeDzjQY</td>\n",
       "      <td>0.948862</td>\n",
       "      <td>-0.332449</td>\n",
       "      <td>-0.465815</td>\n",
       "      <td>-0.447974</td>\n",
       "    </tr>\n",
       "    <tr>\n",
       "      <th>4</th>\n",
       "      <td>S3cv3ZUsTO</td>\n",
       "      <td>0.326919</td>\n",
       "      <td>-0.390566</td>\n",
       "      <td>1.218844</td>\n",
       "      <td>0.945531</td>\n",
       "    </tr>\n",
       "    <tr>\n",
       "      <th>5</th>\n",
       "      <td>X7mIaJ0JxZ</td>\n",
       "      <td>-0.420088</td>\n",
       "      <td>0.336383</td>\n",
       "      <td>0.080065</td>\n",
       "      <td>0.255641</td>\n",
       "    </tr>\n",
       "    <tr>\n",
       "      <th>8</th>\n",
       "      <td>zVKw0NlxJ5</td>\n",
       "      <td>0.677988</td>\n",
       "      <td>-0.837882</td>\n",
       "      <td>0.359139</td>\n",
       "      <td>0.523772</td>\n",
       "    </tr>\n",
       "  </tbody>\n",
       "</table>\n",
       "</div>"
      ],
      "text/plain": [
       "            Z         A         B         C         D\n",
       "1  kc8LvgC54A  0.178269  0.819694 -0.363175 -1.945319\n",
       "3  CSOTeDzjQY  0.948862 -0.332449 -0.465815 -0.447974\n",
       "4  S3cv3ZUsTO  0.326919 -0.390566  1.218844  0.945531\n",
       "5  X7mIaJ0JxZ -0.420088  0.336383  0.080065  0.255641\n",
       "8  zVKw0NlxJ5  0.677988 -0.837882  0.359139  0.523772"
      ]
     },
     "execution_count": 19,
     "metadata": {},
     "output_type": "execute_result"
    }
   ],
   "source": [
    "df = df_backup.copy(deep=True)\n",
    "df = df.dropna(axis='rows')\n",
    "df.head()"
   ]
  },
  {
   "cell_type": "code",
   "execution_count": 20,
   "id": "688ed939-8310-44b5-9010-64ad90e73d1c",
   "metadata": {},
   "outputs": [
    {
     "data": {
      "text/plain": [
       "Z    0.000000\n",
       "A    0.133333\n",
       "B    0.100000\n",
       "C    0.033333\n",
       "D    0.133333\n",
       "dtype: float64"
      ]
     },
     "execution_count": 20,
     "metadata": {},
     "output_type": "execute_result"
    }
   ],
   "source": [
    "df = df_backup.copy(deep=True)\n",
    "df.isna().mean()"
   ]
  },
  {
   "cell_type": "code",
   "execution_count": 22,
   "id": "17e8ce5b-ae75-479d-9062-57b2dfc6d70c",
   "metadata": {},
   "outputs": [
    {
     "data": {
      "text/html": [
       "<div>\n",
       "<style scoped>\n",
       "    .dataframe tbody tr th:only-of-type {\n",
       "        vertical-align: middle;\n",
       "    }\n",
       "\n",
       "    .dataframe tbody tr th {\n",
       "        vertical-align: top;\n",
       "    }\n",
       "\n",
       "    .dataframe thead th {\n",
       "        text-align: right;\n",
       "    }\n",
       "</style>\n",
       "<table border=\"1\" class=\"dataframe\">\n",
       "  <thead>\n",
       "    <tr style=\"text-align: right;\">\n",
       "      <th></th>\n",
       "      <th>Z</th>\n",
       "      <th>B</th>\n",
       "      <th>C</th>\n",
       "    </tr>\n",
       "  </thead>\n",
       "  <tbody>\n",
       "    <tr>\n",
       "      <th>0</th>\n",
       "      <td>jv2QdANp8S</td>\n",
       "      <td>2.797723</td>\n",
       "      <td>1.024956</td>\n",
       "    </tr>\n",
       "    <tr>\n",
       "      <th>1</th>\n",
       "      <td>kc8LvgC54A</td>\n",
       "      <td>0.819694</td>\n",
       "      <td>-0.363175</td>\n",
       "    </tr>\n",
       "    <tr>\n",
       "      <th>2</th>\n",
       "      <td>1uTNg8kMzz</td>\n",
       "      <td>0.517209</td>\n",
       "      <td>-0.073781</td>\n",
       "    </tr>\n",
       "    <tr>\n",
       "      <th>3</th>\n",
       "      <td>CSOTeDzjQY</td>\n",
       "      <td>-0.332449</td>\n",
       "      <td>-0.465815</td>\n",
       "    </tr>\n",
       "    <tr>\n",
       "      <th>4</th>\n",
       "      <td>S3cv3ZUsTO</td>\n",
       "      <td>-0.390566</td>\n",
       "      <td>1.218844</td>\n",
       "    </tr>\n",
       "  </tbody>\n",
       "</table>\n",
       "</div>"
      ],
      "text/plain": [
       "            Z         B         C\n",
       "0  jv2QdANp8S  2.797723  1.024956\n",
       "1  kc8LvgC54A  0.819694 -0.363175\n",
       "2  1uTNg8kMzz  0.517209 -0.073781\n",
       "3  CSOTeDzjQY -0.332449 -0.465815\n",
       "4  S3cv3ZUsTO -0.390566  1.218844"
      ]
     },
     "execution_count": 22,
     "metadata": {},
     "output_type": "execute_result"
    }
   ],
   "source": [
    "treshold = len(df)*0.9\n",
    "df = df.dropna(thresh=treshold, axis='columns')\n",
    "df.head()"
   ]
  },
  {
   "cell_type": "code",
   "execution_count": null,
   "id": "10488259-5832-4029-9480-eedcb86b82a4",
   "metadata": {},
   "outputs": [],
   "source": []
  }
 ],
 "metadata": {
  "kernelspec": {
   "display_name": "Python 3",
   "language": "python",
   "name": "python3"
  },
  "language_info": {
   "codemirror_mode": {
    "name": "ipython",
    "version": 3
   },
   "file_extension": ".py",
   "mimetype": "text/x-python",
   "name": "python",
   "nbconvert_exporter": "python",
   "pygments_lexer": "ipython3",
   "version": "3.8.5"
  }
 },
 "nbformat": 4,
 "nbformat_minor": 5
}
